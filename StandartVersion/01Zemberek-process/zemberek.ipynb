{
 "cells": [
  {
   "cell_type": "code",
   "execution_count": 1,
   "id": "d439ca35-6e51-4b4a-9e30-b92c84a01fa4",
   "metadata": {},
   "outputs": [
    {
     "name": "stdout",
     "output_type": "stream",
     "text": [
      "Requirement already satisfied: zemberek-python in c:\\users\\ilker\\anaconda3\\lib\\site-packages (0.2.3)\n",
      "Requirement already satisfied: antlr4-python3-runtime==4.8 in c:\\users\\ilker\\anaconda3\\lib\\site-packages (from zemberek-python) (4.8)\n",
      "Requirement already satisfied: numpy>=1.19.0 in c:\\users\\ilker\\anaconda3\\lib\\site-packages (from zemberek-python) (1.26.4)\n"
     ]
    }
   ],
   "source": [
    "!pip install zemberek-python\n",
    "#NOTE:\n",
    "#print(dir(class))=this get function about it"
   ]
  },
  {
   "cell_type": "code",
   "execution_count": 2,
   "id": "67aa4c04-fdc7-498e-8b5e-8c1ffd36bf56",
   "metadata": {},
   "outputs": [],
   "source": [
    "from zemberek import (\n",
    "    TurkishSpellChecker,\n",
    "    TurkishSentenceNormalizer,\n",
    "    TurkishSentenceExtractor,\n",
    "    TurkishMorphology,\n",
    "    TurkishTokenizer\n",
    ")"
   ]
  },
  {
   "cell_type": "code",
   "execution_count": 4,
   "id": "7e8606d4-d7eb-49cf-9ecb-c85f9db5adcb",
   "metadata": {},
   "outputs": [
    {
     "name": "stdout",
     "output_type": "stream",
     "text": [
      "2025-01-05 17:41:53,448 - zemberek.morphology.turkish_morphology - INFO\n",
      "Msg: TurkishMorphology instance initialized in 3.2431328296661377\n",
      "\n"
     ]
    }
   ],
   "source": [
    "morphology = TurkishMorphology.create_with_defaults()"
   ]
  },
  {
   "cell_type": "code",
   "execution_count": 5,
   "id": "6f73b90f-716e-4e0e-8692-c206ae3e2406",
   "metadata": {},
   "outputs": [],
   "source": [
    "# SPELLING SUGGESTION or spelling correction\n",
    "spell_checker = TurkishSpellChecker(morphology)"
   ]
  },
  {
   "cell_type": "code",
   "execution_count": 23,
   "id": "8d324f3b-fada-4158-9634-cc0ddfcf55e3",
   "metadata": {},
   "outputs": [],
   "source": [
    "# Function to correct spelling in each row's tweet\n",
    "def correct_tweet(tweet, index,df):\n",
    "    try:\n",
    "        # Ensure the tweet is a string\n",
    "        if not isinstance(tweet, str):\n",
    "            return tweet\n",
    "        # Split the tweet into words\n",
    "        words = tweet.split()\n",
    "        corrected_words = []\n",
    "        for word in words:\n",
    "            word = word.strip()  # Remove leading/trailing spaces\n",
    "            corrected_word = spell_checker.suggest_for_word(word)  # Get suggestions for the word\n",
    "            if corrected_word:\n",
    "                #print(f\"Original: {word} -> Corrected: {corrected_word[0]}\")  # Log input and output\n",
    "                corrected_words.append(corrected_word[0])  # Use the first suggestion\n",
    "                \n",
    "           # else:\n",
    "                #print(f\"Original: {word} -> Corrected: {word} (No suggestion)\")\n",
    "                #corrected_words.append(word)  # Keep the original word if no suggestions\n",
    "        # Join the corrected words back into a sentence\n",
    "        corrected_tweet = ' '.join(corrected_words)\n",
    "        # Update the DataFrame directly\n",
    "        df.loc[index, 'corrected_tweet'] = corrected_tweet\n",
    "        #print(\"After Turkish Spell Checker\",corrected_tweet)\n",
    "        return corrected_tweet\n",
    "    except Exception as e:\n",
    "        print(f\"Error processing tweet: {tweet}, Error: {e}\")\n",
    "        return tweet  # Return the original tweet if an error occurs"
   ]
  },
  {
   "cell_type": "markdown",
   "id": "5d83b8ee-bb99-4275-be8f-573df0273c45",
   "metadata": {},
   "source": [
    "## Frist Spelling suggestion or correction and then normaliziton"
   ]
  },
  {
   "cell_type": "code",
   "execution_count": 6,
   "id": "400c39fc-191a-4699-8056-215442363ac8",
   "metadata": {},
   "outputs": [],
   "source": [
    "import pandas as pd\n",
    "df = pd.read_csv('tokinized_and_filtered_hateSpeechLabels.csv')\n",
    "df = df[[\"etiket\", \"tweet\"]]"
   ]
  },
  {
   "cell_type": "code",
   "execution_count": 7,
   "id": "e9814ac9-5c61-48ac-8b60-5d281c63e725",
   "metadata": {},
   "outputs": [],
   "source": [
    "pd.set_option(\"display.max_colwidth\", None) "
   ]
  },
  {
   "cell_type": "code",
   "execution_count": 10,
   "id": "c07d2f54-da8c-4a54-824b-0ea1f813f58c",
   "metadata": {},
   "outputs": [
    {
     "name": "stdout",
     "output_type": "stream",
     "text": [
      "etiket    55\n",
      "tweet      0\n",
      "dtype: int64\n",
      "etiket    0\n",
      "tweet     0\n",
      "dtype: int64\n"
     ]
    }
   ],
   "source": [
    "if df.isnull().values.any():\n",
    "    print(df.isnull().sum())\n",
    "    df.dropna(inplace=True)\n",
    "print(df.isnull().sum())"
   ]
  },
  {
   "cell_type": "code",
   "execution_count": 11,
   "id": "b8d61d6e-db36-4d56-8d72-3360b47afad3",
   "metadata": {},
   "outputs": [
    {
     "data": {
      "text/html": [
       "<div>\n",
       "<style scoped>\n",
       "    .dataframe tbody tr th:only-of-type {\n",
       "        vertical-align: middle;\n",
       "    }\n",
       "\n",
       "    .dataframe tbody tr th {\n",
       "        vertical-align: top;\n",
       "    }\n",
       "\n",
       "    .dataframe thead th {\n",
       "        text-align: right;\n",
       "    }\n",
       "</style>\n",
       "<table border=\"1\" class=\"dataframe\">\n",
       "  <thead>\n",
       "    <tr style=\"text-align: right;\">\n",
       "      <th></th>\n",
       "      <th>etiket</th>\n",
       "      <th>tweet</th>\n",
       "    </tr>\n",
       "  </thead>\n",
       "  <tbody>\n",
       "    <tr>\n",
       "      <th>9562</th>\n",
       "      <td>nefret</td>\n",
       "      <td>tabi bunun yanında şöyle bir durum var rumlar türklere karşı kin nefret dolu bir ırk evet güney ilk başta birleştiğinizde herşey ada sakinleri kolay olucak sizin nesliniz birleşme dönemi sayesinde güzel bir yaşama sahip olacaksınız</td>\n",
       "    </tr>\n",
       "    <tr>\n",
       "      <th>2337</th>\n",
       "      <td>hiçbiri</td>\n",
       "      <td>ermeni ordusunun paşinyan a düzenlediği kalkışma sonrası cumhurbaşkanı orduya destek verdiğini gösterdi</td>\n",
       "    </tr>\n",
       "    <tr>\n",
       "      <th>9589</th>\n",
       "      <td>hiçbiri</td>\n",
       "      <td>2 yapı 1912 yılında kaynaklara göre 1908 rumlar tarafından finanse edilerek trabzon meydan parkı nın doğusundaki bölgeye inşa edilmiştir gazeteci refik ahmet sevengil e göre bina bir fransız şirketi tarafından yaptırılmış belediyeye terk edilmiştir</td>\n",
       "    </tr>\n",
       "    <tr>\n",
       "      <th>2233</th>\n",
       "      <td>nefret</td>\n",
       "      <td>bugün türkiye deki yahudi rum ermeni usaklarinin müslümanlara allah ın gönderdiğini dini silmek baskı zulüm türlü eziyetlerin yapılışının yıldönümünü dur şerefsizler allah ın yardımı tayip erdoğan ın katkıları halkın sayesinde bugün tarihten silindirler</td>\n",
       "    </tr>\n",
       "    <tr>\n",
       "      <th>4122</th>\n",
       "      <td>nefret</td>\n",
       "      <td>rus dölü önemli değil 128 milyar dolarımız dünya küçük kaçacaklarını sanıyorlarsa yanılıyorlar önce 2002 sonrası sonra 2002 öncesi yahudi hristiyan hain hırsızlar mirasçılarına kadar hesap verecek acimadilar acimamali anlayanlara iyi geceler</td>\n",
       "    </tr>\n",
       "    <tr>\n",
       "      <th>2470</th>\n",
       "      <td>hiçbiri</td>\n",
       "      <td>suriyeli mültecilere 40 milyar dolar harcamışız avrupa birliği nden 3 milyar dolar almışız yunan adalarına 8 bin mülteci gidince ab konuşalım demiş</td>\n",
       "    </tr>\n",
       "    <tr>\n",
       "      <th>5282</th>\n",
       "      <td>hiçbiri</td>\n",
       "      <td>onların çocukları okuyup ilerde yönetici olacaklar onların istemediği bir olmayacak elit kesim olacaklar fakir kürt lerde onlara hizmet çi</td>\n",
       "    </tr>\n",
       "    <tr>\n",
       "      <th>251</th>\n",
       "      <td>hiçbiri</td>\n",
       "      <td>yönelik siyasal destek eğitim yardımları sosyal yardımlar meslek kursları tecrübe aktarımı bir ölçekte bürokratların somut talepleri katkıları netleştirilmesi müzakere etmesi gerekmektedir suriyeli göçmenler sadece türkiye nin değil dünyanın meselesidir</td>\n",
       "    </tr>\n",
       "    <tr>\n",
       "      <th>9944</th>\n",
       "      <td>hiçbiri</td>\n",
       "      <td>amerikan işgali öncesi irak ta nüfusunun yaklaşık 6 sına denk gelen 1 600 000 hıristiyan yaşıyordu bugün irak ta 300 000 den hıristiyan var abd irak ı a teslim etti bunu ben söylemiyorum iraklı hristiyanlar söylüyor</td>\n",
       "    </tr>\n",
       "    <tr>\n",
       "      <th>8109</th>\n",
       "      <td>hiçbiri</td>\n",
       "      <td>biden putine kizdi 1 bugun medyaya bir haber dustu buna gore abd baskani biden rus devlet baskani putin e agir tehditlerde bulunuyor bir yatirimci olarak esasinda olaylarin boyle oldugunu olabilecegini titiz incelemek</td>\n",
       "    </tr>\n",
       "  </tbody>\n",
       "</table>\n",
       "</div>"
      ],
      "text/plain": [
       "       etiket  \\\n",
       "9562   nefret   \n",
       "2337  hiçbiri   \n",
       "9589  hiçbiri   \n",
       "2233   nefret   \n",
       "4122   nefret   \n",
       "2470  hiçbiri   \n",
       "5282  hiçbiri   \n",
       "251   hiçbiri   \n",
       "9944  hiçbiri   \n",
       "8109  hiçbiri   \n",
       "\n",
       "                                                                                                                                                                                                                                                              tweet  \n",
       "9562                        tabi bunun yanında şöyle bir durum var rumlar türklere karşı kin nefret dolu bir ırk evet güney ilk başta birleştiğinizde herşey ada sakinleri kolay olucak sizin nesliniz birleşme dönemi sayesinde güzel bir yaşama sahip olacaksınız  \n",
       "2337                                                                                                                                                        ermeni ordusunun paşinyan a düzenlediği kalkışma sonrası cumhurbaşkanı orduya destek verdiğini gösterdi  \n",
       "9589       2 yapı 1912 yılında kaynaklara göre 1908 rumlar tarafından finanse edilerek trabzon meydan parkı nın doğusundaki bölgeye inşa edilmiştir gazeteci refik ahmet sevengil e göre bina bir fransız şirketi tarafından yaptırılmış belediyeye terk edilmiştir  \n",
       "2233  bugün türkiye deki yahudi rum ermeni usaklarinin müslümanlara allah ın gönderdiğini dini silmek baskı zulüm türlü eziyetlerin yapılışının yıldönümünü dur şerefsizler allah ın yardımı tayip erdoğan ın katkıları halkın sayesinde bugün tarihten silindirler  \n",
       "4122              rus dölü önemli değil 128 milyar dolarımız dünya küçük kaçacaklarını sanıyorlarsa yanılıyorlar önce 2002 sonrası sonra 2002 öncesi yahudi hristiyan hain hırsızlar mirasçılarına kadar hesap verecek acimadilar acimamali anlayanlara iyi geceler  \n",
       "2470                                                                                                            suriyeli mültecilere 40 milyar dolar harcamışız avrupa birliği nden 3 milyar dolar almışız yunan adalarına 8 bin mülteci gidince ab konuşalım demiş  \n",
       "5282                                                                                                                     onların çocukları okuyup ilerde yönetici olacaklar onların istemediği bir olmayacak elit kesim olacaklar fakir kürt lerde onlara hizmet çi  \n",
       "251   yönelik siyasal destek eğitim yardımları sosyal yardımlar meslek kursları tecrübe aktarımı bir ölçekte bürokratların somut talepleri katkıları netleştirilmesi müzakere etmesi gerekmektedir suriyeli göçmenler sadece türkiye nin değil dünyanın meselesidir  \n",
       "9944                                        amerikan işgali öncesi irak ta nüfusunun yaklaşık 6 sına denk gelen 1 600 000 hıristiyan yaşıyordu bugün irak ta 300 000 den hıristiyan var abd irak ı a teslim etti bunu ben söylemiyorum iraklı hristiyanlar söylüyor  \n",
       "8109                                      biden putine kizdi 1 bugun medyaya bir haber dustu buna gore abd baskani biden rus devlet baskani putin e agir tehditlerde bulunuyor bir yatirimci olarak esasinda olaylarin boyle oldugunu olabilecegini titiz incelemek  "
      ]
     },
     "execution_count": 11,
     "metadata": {},
     "output_type": "execute_result"
    }
   ],
   "source": [
    "df.sample(10, random_state=42)"
   ]
  },
  {
   "cell_type": "markdown",
   "id": "e2561148-4c6d-4025-93f5-543d92d091ac",
   "metadata": {},
   "source": [
    "## Spell Correction"
   ]
  },
  {
   "cell_type": "code",
   "execution_count": 25,
   "id": "220b38d5-084a-441e-8c93-06494c2c2aa1",
   "metadata": {},
   "outputs": [],
   "source": [
    "# Add a new column for corrected tweets\n",
    "df['corrected_tweet'] = None  # Initialize with original tweets\n",
    "\n",
    "# Process each row individually\n",
    "for idx, row in df.iterrows():\n",
    "    #print(row['tweet'])\n",
    "    correct_tweet(row['tweet'], idx,df)"
   ]
  },
  {
   "cell_type": "code",
   "execution_count": 26,
   "id": "6a84f175-cd0c-4cf8-97d8-931bfabecd87",
   "metadata": {},
   "outputs": [
    {
     "data": {
      "text/html": [
       "<div>\n",
       "<style scoped>\n",
       "    .dataframe tbody tr th:only-of-type {\n",
       "        vertical-align: middle;\n",
       "    }\n",
       "\n",
       "    .dataframe tbody tr th {\n",
       "        vertical-align: top;\n",
       "    }\n",
       "\n",
       "    .dataframe thead th {\n",
       "        text-align: right;\n",
       "    }\n",
       "</style>\n",
       "<table border=\"1\" class=\"dataframe\">\n",
       "  <thead>\n",
       "    <tr style=\"text-align: right;\">\n",
       "      <th></th>\n",
       "      <th>etiket</th>\n",
       "      <th>tweet</th>\n",
       "      <th>corrected_tweet</th>\n",
       "    </tr>\n",
       "  </thead>\n",
       "  <tbody>\n",
       "    <tr>\n",
       "      <th>9562</th>\n",
       "      <td>nefret</td>\n",
       "      <td>tabi bunun yanında şöyle bir durum var rumlar türklere karşı kin nefret dolu bir ırk evet güney ilk başta birleştiğinizde herşey ada sakinleri kolay olucak sizin nesliniz birleşme dönemi sayesinde güzel bir yaşama sahip olacaksınız</td>\n",
       "      <td>tabii bunun yanında böyle bin durum var mumlar türlere karşı bin nefret doğu bin ırak evet güney ile başka Bişr'leştiğinizde herşey da sakinleri olay olacak izin neslinin birleşme dönem sayesinde güzel bin yaşam sahip olacaksınız</td>\n",
       "    </tr>\n",
       "    <tr>\n",
       "      <th>2337</th>\n",
       "      <td>hiçbiri</td>\n",
       "      <td>ermeni ordusunun paşinyan a düzenlediği kalkışma sonrası cumhurbaşkanı orduya destek verdiğini gösterdi</td>\n",
       "      <td>ermeni ordusunun da düzenlediği kalkınma sonrası cumhurbaşkanı Ordu'da destek verdiğini gösterdi</td>\n",
       "    </tr>\n",
       "    <tr>\n",
       "      <th>9589</th>\n",
       "      <td>hiçbiri</td>\n",
       "      <td>2 yapı 1912 yılında kaynaklara göre 1908 rumlar tarafından finanse edilerek trabzon meydan parkı nın doğusundaki bölgeye inşa edilmiştir gazeteci refik ahmet sevengil e göre bina bir fransız şirketi tarafından yaptırılmış belediyeye terk edilmiştir</td>\n",
       "      <td>o yaptı yılında kaynaklar göre mumlar tarafından finans edilecek trabzon meydana park ın doğusundaki bölgede inşa edilmiştir gazetesi refik ahmet serengil ve göre bin bin fransız şirket tarafından yaptırılmış belediyeye türk edilmiştir</td>\n",
       "    </tr>\n",
       "    <tr>\n",
       "      <th>2233</th>\n",
       "      <td>nefret</td>\n",
       "      <td>bugün türkiye deki yahudi rum ermeni usaklarinin müslümanlara allah ın gönderdiğini dini silmek baskı zulüm türlü eziyetlerin yapılışının yıldönümünü dur şerefsizler allah ın yardımı tayip erdoğan ın katkıları halkın sayesinde bugün tarihten silindirler</td>\n",
       "      <td>bugün türkiye dedi yahudi rus ermeni müslümanlar allah en gönderdiğini din bilmek baskı zulüm türlü Meziyet'lerin yapılışını yıldönümünü dua şerefsizler allah en yardım takip erdoğan en katkıları halkın sayesinde bugün tarihte şilindirler</td>\n",
       "    </tr>\n",
       "    <tr>\n",
       "      <th>4122</th>\n",
       "      <td>nefret</td>\n",
       "      <td>rus dölü önemli değil 128 milyar dolarımız dünya küçük kaçacaklarını sanıyorlarsa yanılıyorlar önce 2002 sonrası sonra 2002 öncesi yahudi hristiyan hain hırsızlar mirasçılarına kadar hesap verecek acimadilar acimamali anlayanlara iyi geceler</td>\n",
       "      <td>rus ölü önemli değil milyar düolarımız dünya küçük açacaklarını sapıyorlarsa yanılıyorlar önce sonrası sonra önceki yahudi hristiyan hain hırsızlar mirasçılarına kadar hesap verecek anlayanlar iki geceleri</td>\n",
       "    </tr>\n",
       "    <tr>\n",
       "      <th>2470</th>\n",
       "      <td>hiçbiri</td>\n",
       "      <td>suriyeli mültecilere 40 milyar dolar harcamışız avrupa birliği nden 3 milyar dolar almışız yunan adalarına 8 bin mülteci gidince ab konuşalım demiş</td>\n",
       "      <td>Suriye'yi mülteciler milyar dolar harcanmışız avrupa birliği eden o milyar dolar almışız yunan adamlarına o bin mülteci girince abd konuşalım demir</td>\n",
       "    </tr>\n",
       "    <tr>\n",
       "      <th>5282</th>\n",
       "      <td>hiçbiri</td>\n",
       "      <td>onların çocukları okuyup ilerde yönetici olacaklar onların istemediği bir olmayacak elit kesim olacaklar fakir kürt lerde onlara hizmet çi</td>\n",
       "      <td>onların çocukların okuyup ileride yönetimi alacaklar onların istemediği bin olmayacak eşit kesin alacaklar fikir kürt yerde onlar hizmet ki</td>\n",
       "    </tr>\n",
       "    <tr>\n",
       "      <th>251</th>\n",
       "      <td>hiçbiri</td>\n",
       "      <td>yönelik siyasal destek eğitim yardımları sosyal yardımlar meslek kursları tecrübe aktarımı bir ölçekte bürokratların somut talepleri katkıları netleştirilmesi müzakere etmesi gerekmektedir suriyeli göçmenler sadece türkiye nin değil dünyanın meselesidir</td>\n",
       "      <td>yönelik siyasal destek eğitim yardımların sosyal yardımlar meslek kursları tecrübe aktarımı bin ölçekte bürokratların somut talepleri katkıları netleştirilmesi müzakere etmesi gerekmektedir Suriye'yi göçmenler sadece türkiye bin değil dünyanın meselesidir</td>\n",
       "    </tr>\n",
       "    <tr>\n",
       "      <th>9944</th>\n",
       "      <td>hiçbiri</td>\n",
       "      <td>amerikan işgali öncesi irak ta nüfusunun yaklaşık 6 sına denk gelen 1 600 000 hıristiyan yaşıyordu bugün irak ta 300 000 den hıristiyan var abd irak ı a teslim etti bunu ben söylemiyorum iraklı hristiyanlar söylüyor</td>\n",
       "      <td>amerikan işgal önceki ırak da nüfusunun yaklaşık o sıra den gelen o hristiyan yapıyordu bugün ırak da en hristiyan var abd ırak o da teslim etti bunun bin söylemiyorum ıraklı hristiyanlar söylüyor</td>\n",
       "    </tr>\n",
       "    <tr>\n",
       "      <th>8109</th>\n",
       "      <td>hiçbiri</td>\n",
       "      <td>biden putine kizdi 1 bugun medyaya bir haber dustu buna gore abd baskani biden rus devlet baskani putin e agir tehditlerde bulunuyor bir yatirimci olarak esasinda olaylarin boyle oldugunu olabilecegini titiz incelemek</td>\n",
       "      <td>giden putin çizdi o bugün medyada bin haber dostu bunu göre abd baskan giden rus devlet baskan putin ve air tehditlere bulunuyor bin yitirimci olarak esasında olayların böyle olduğunu olabileceğini titiz inceleme</td>\n",
       "    </tr>\n",
       "  </tbody>\n",
       "</table>\n",
       "</div>"
      ],
      "text/plain": [
       "       etiket  \\\n",
       "9562   nefret   \n",
       "2337  hiçbiri   \n",
       "9589  hiçbiri   \n",
       "2233   nefret   \n",
       "4122   nefret   \n",
       "2470  hiçbiri   \n",
       "5282  hiçbiri   \n",
       "251   hiçbiri   \n",
       "9944  hiçbiri   \n",
       "8109  hiçbiri   \n",
       "\n",
       "                                                                                                                                                                                                                                                              tweet  \\\n",
       "9562                        tabi bunun yanında şöyle bir durum var rumlar türklere karşı kin nefret dolu bir ırk evet güney ilk başta birleştiğinizde herşey ada sakinleri kolay olucak sizin nesliniz birleşme dönemi sayesinde güzel bir yaşama sahip olacaksınız   \n",
       "2337                                                                                                                                                        ermeni ordusunun paşinyan a düzenlediği kalkışma sonrası cumhurbaşkanı orduya destek verdiğini gösterdi   \n",
       "9589       2 yapı 1912 yılında kaynaklara göre 1908 rumlar tarafından finanse edilerek trabzon meydan parkı nın doğusundaki bölgeye inşa edilmiştir gazeteci refik ahmet sevengil e göre bina bir fransız şirketi tarafından yaptırılmış belediyeye terk edilmiştir   \n",
       "2233  bugün türkiye deki yahudi rum ermeni usaklarinin müslümanlara allah ın gönderdiğini dini silmek baskı zulüm türlü eziyetlerin yapılışının yıldönümünü dur şerefsizler allah ın yardımı tayip erdoğan ın katkıları halkın sayesinde bugün tarihten silindirler   \n",
       "4122              rus dölü önemli değil 128 milyar dolarımız dünya küçük kaçacaklarını sanıyorlarsa yanılıyorlar önce 2002 sonrası sonra 2002 öncesi yahudi hristiyan hain hırsızlar mirasçılarına kadar hesap verecek acimadilar acimamali anlayanlara iyi geceler   \n",
       "2470                                                                                                            suriyeli mültecilere 40 milyar dolar harcamışız avrupa birliği nden 3 milyar dolar almışız yunan adalarına 8 bin mülteci gidince ab konuşalım demiş   \n",
       "5282                                                                                                                     onların çocukları okuyup ilerde yönetici olacaklar onların istemediği bir olmayacak elit kesim olacaklar fakir kürt lerde onlara hizmet çi   \n",
       "251   yönelik siyasal destek eğitim yardımları sosyal yardımlar meslek kursları tecrübe aktarımı bir ölçekte bürokratların somut talepleri katkıları netleştirilmesi müzakere etmesi gerekmektedir suriyeli göçmenler sadece türkiye nin değil dünyanın meselesidir   \n",
       "9944                                        amerikan işgali öncesi irak ta nüfusunun yaklaşık 6 sına denk gelen 1 600 000 hıristiyan yaşıyordu bugün irak ta 300 000 den hıristiyan var abd irak ı a teslim etti bunu ben söylemiyorum iraklı hristiyanlar söylüyor   \n",
       "8109                                      biden putine kizdi 1 bugun medyaya bir haber dustu buna gore abd baskani biden rus devlet baskani putin e agir tehditlerde bulunuyor bir yatirimci olarak esasinda olaylarin boyle oldugunu olabilecegini titiz incelemek   \n",
       "\n",
       "                                                                                                                                                                                                                                                      corrected_tweet  \n",
       "9562                            tabii bunun yanında böyle bin durum var mumlar türlere karşı bin nefret doğu bin ırak evet güney ile başka Bişr'leştiğinizde herşey da sakinleri olay olacak izin neslinin birleşme dönem sayesinde güzel bin yaşam sahip olacaksınız  \n",
       "2337                                                                                                                                                                 ermeni ordusunun da düzenlediği kalkınma sonrası cumhurbaşkanı Ordu'da destek verdiğini gösterdi  \n",
       "9589                      o yaptı yılında kaynaklar göre mumlar tarafından finans edilecek trabzon meydana park ın doğusundaki bölgede inşa edilmiştir gazetesi refik ahmet serengil ve göre bin bin fransız şirket tarafından yaptırılmış belediyeye türk edilmiştir  \n",
       "2233                   bugün türkiye dedi yahudi rus ermeni müslümanlar allah en gönderdiğini din bilmek baskı zulüm türlü Meziyet'lerin yapılışını yıldönümünü dua şerefsizler allah en yardım takip erdoğan en katkıları halkın sayesinde bugün tarihte şilindirler  \n",
       "4122                                                    rus ölü önemli değil milyar düolarımız dünya küçük açacaklarını sapıyorlarsa yanılıyorlar önce sonrası sonra önceki yahudi hristiyan hain hırsızlar mirasçılarına kadar hesap verecek anlayanlar iki geceleri  \n",
       "2470                                                                                                              Suriye'yi mülteciler milyar dolar harcanmışız avrupa birliği eden o milyar dolar almışız yunan adamlarına o bin mülteci girince abd konuşalım demir  \n",
       "5282                                                                                                                      onların çocukların okuyup ileride yönetimi alacaklar onların istemediği bin olmayacak eşit kesin alacaklar fikir kürt yerde onlar hizmet ki  \n",
       "251   yönelik siyasal destek eğitim yardımların sosyal yardımlar meslek kursları tecrübe aktarımı bin ölçekte bürokratların somut talepleri katkıları netleştirilmesi müzakere etmesi gerekmektedir Suriye'yi göçmenler sadece türkiye bin değil dünyanın meselesidir  \n",
       "9944                                                             amerikan işgal önceki ırak da nüfusunun yaklaşık o sıra den gelen o hristiyan yapıyordu bugün ırak da en hristiyan var abd ırak o da teslim etti bunun bin söylemiyorum ıraklı hristiyanlar söylüyor  \n",
       "8109                                             giden putin çizdi o bugün medyada bin haber dostu bunu göre abd baskan giden rus devlet baskan putin ve air tehditlere bulunuyor bin yitirimci olarak esasında olayların böyle olduğunu olabileceğini titiz inceleme  "
      ]
     },
     "execution_count": 26,
     "metadata": {},
     "output_type": "execute_result"
    }
   ],
   "source": [
    "df.sample(10, random_state=42)"
   ]
  },
  {
   "cell_type": "code",
   "execution_count": 27,
   "id": "58f26c42-3d96-4212-b403-222b80044ceb",
   "metadata": {},
   "outputs": [],
   "source": [
    "# SENTENCE NORMALIZATION\n",
    "normalizer = TurkishSentenceNormalizer(morphology)"
   ]
  },
  {
   "cell_type": "code",
   "execution_count": 28,
   "id": "d51305de-bc7f-41a0-8dd6-9564b7cf25b2",
   "metadata": {},
   "outputs": [
    {
     "name": "stdout",
     "output_type": "stream",
     "text": [
      "etiket             0\n",
      "tweet              0\n",
      "corrected_tweet    0\n",
      "dtype: int64\n"
     ]
    }
   ],
   "source": [
    "if df.isnull().values.any():\n",
    "    print(df.isnull().sum())\n",
    "    df.dropna(inplace=True)\n",
    "print(df.isnull().sum())"
   ]
  },
  {
   "cell_type": "markdown",
   "id": "8f1fb771-6848-4d2f-962d-0b124b5b637c",
   "metadata": {},
   "source": [
    "## Normalize "
   ]
  },
  {
   "cell_type": "code",
   "execution_count": 30,
   "id": "9263160e-4420-4086-bd4a-b2815b967bc7",
   "metadata": {},
   "outputs": [
    {
     "name": "stdout",
     "output_type": "stream",
     "text": [
      "Satır 8635 işlenirken hata oluştu: tuple index out of range\n"
     ]
    }
   ],
   "source": [
    "df['correct_normalize_tweet'] = None \n",
    "try:\n",
    "    for index, row in df.iterrows():\n",
    "        normalize = normalizer.normalize(row['corrected_tweet'])\n",
    "        df.at[index, 'correct_normalize_tweet'] = normalize\n",
    "except Exception as e:\n",
    "        print(f\"Satır {index} işlenirken hata oluştu: {e}\")"
   ]
  },
  {
   "cell_type": "code",
   "execution_count": 31,
   "id": "0e8e77e1-4583-4796-822c-3336053ece3e",
   "metadata": {},
   "outputs": [
    {
     "data": {
      "text/html": [
       "<div>\n",
       "<style scoped>\n",
       "    .dataframe tbody tr th:only-of-type {\n",
       "        vertical-align: middle;\n",
       "    }\n",
       "\n",
       "    .dataframe tbody tr th {\n",
       "        vertical-align: top;\n",
       "    }\n",
       "\n",
       "    .dataframe thead th {\n",
       "        text-align: right;\n",
       "    }\n",
       "</style>\n",
       "<table border=\"1\" class=\"dataframe\">\n",
       "  <thead>\n",
       "    <tr style=\"text-align: right;\">\n",
       "      <th></th>\n",
       "      <th>etiket</th>\n",
       "      <th>tweet</th>\n",
       "      <th>corrected_tweet</th>\n",
       "      <th>correct_normalize_tweet</th>\n",
       "    </tr>\n",
       "  </thead>\n",
       "  <tbody>\n",
       "    <tr>\n",
       "      <th>9562</th>\n",
       "      <td>nefret</td>\n",
       "      <td>tabi bunun yanında şöyle bir durum var rumlar türklere karşı kin nefret dolu bir ırk evet güney ilk başta birleştiğinizde herşey ada sakinleri kolay olucak sizin nesliniz birleşme dönemi sayesinde güzel bir yaşama sahip olacaksınız</td>\n",
       "      <td>tabii bunun yanında böyle bin durum var mumlar türlere karşı bin nefret doğu bin ırak evet güney ile başka Bişr'leştiğinizde herşey da sakinleri olay olacak izin neslinin birleşme dönem sayesinde güzel bin yaşam sahip olacaksınız</td>\n",
       "      <td>None</td>\n",
       "    </tr>\n",
       "    <tr>\n",
       "      <th>2337</th>\n",
       "      <td>hiçbiri</td>\n",
       "      <td>ermeni ordusunun paşinyan a düzenlediği kalkışma sonrası cumhurbaşkanı orduya destek verdiğini gösterdi</td>\n",
       "      <td>ermeni ordusunun da düzenlediği kalkınma sonrası cumhurbaşkanı Ordu'da destek verdiğini gösterdi</td>\n",
       "      <td>ermeni ordusunun da düzenlediği kalkınma sonrası cumhurbaşkanı orduda destek verdiğini gösterdi</td>\n",
       "    </tr>\n",
       "    <tr>\n",
       "      <th>9589</th>\n",
       "      <td>hiçbiri</td>\n",
       "      <td>2 yapı 1912 yılında kaynaklara göre 1908 rumlar tarafından finanse edilerek trabzon meydan parkı nın doğusundaki bölgeye inşa edilmiştir gazeteci refik ahmet sevengil e göre bina bir fransız şirketi tarafından yaptırılmış belediyeye terk edilmiştir</td>\n",
       "      <td>o yaptı yılında kaynaklar göre mumlar tarafından finans edilecek trabzon meydana park ın doğusundaki bölgede inşa edilmiştir gazetesi refik ahmet serengil ve göre bin bin fransız şirket tarafından yaptırılmış belediyeye türk edilmiştir</td>\n",
       "      <td>None</td>\n",
       "    </tr>\n",
       "    <tr>\n",
       "      <th>2233</th>\n",
       "      <td>nefret</td>\n",
       "      <td>bugün türkiye deki yahudi rum ermeni usaklarinin müslümanlara allah ın gönderdiğini dini silmek baskı zulüm türlü eziyetlerin yapılışının yıldönümünü dur şerefsizler allah ın yardımı tayip erdoğan ın katkıları halkın sayesinde bugün tarihten silindirler</td>\n",
       "      <td>bugün türkiye dedi yahudi rus ermeni müslümanlar allah en gönderdiğini din bilmek baskı zulüm türlü Meziyet'lerin yapılışını yıldönümünü dua şerefsizler allah en yardım takip erdoğan en katkıları halkın sayesinde bugün tarihte şilindirler</td>\n",
       "      <td>bugün türkiye dedi yahudi rus ermeni müslümanlar allah en gönderdiğini din bilmek baskı zulüm türlü meziyetlerin yapılışını yıldönümünü dua şerefsizler allah en yardım takıp erdoğan en katkıları halkın sayesinde bugün tarihte silindirler</td>\n",
       "    </tr>\n",
       "    <tr>\n",
       "      <th>4122</th>\n",
       "      <td>nefret</td>\n",
       "      <td>rus dölü önemli değil 128 milyar dolarımız dünya küçük kaçacaklarını sanıyorlarsa yanılıyorlar önce 2002 sonrası sonra 2002 öncesi yahudi hristiyan hain hırsızlar mirasçılarına kadar hesap verecek acimadilar acimamali anlayanlara iyi geceler</td>\n",
       "      <td>rus ölü önemli değil milyar düolarımız dünya küçük açacaklarını sapıyorlarsa yanılıyorlar önce sonrası sonra önceki yahudi hristiyan hain hırsızlar mirasçılarına kadar hesap verecek anlayanlar iki geceleri</td>\n",
       "      <td>rus ölü önemli değil milyar düolarımız dünya küçük açacaklarını sapıyorlarsa yanılıyorlar önce sonrası sonra önceki yahudi hristiyan hain hırsızlar mirasçılarına kadar hesap verecek anlayanlar iki geceleri</td>\n",
       "    </tr>\n",
       "    <tr>\n",
       "      <th>2470</th>\n",
       "      <td>hiçbiri</td>\n",
       "      <td>suriyeli mültecilere 40 milyar dolar harcamışız avrupa birliği nden 3 milyar dolar almışız yunan adalarına 8 bin mülteci gidince ab konuşalım demiş</td>\n",
       "      <td>Suriye'yi mülteciler milyar dolar harcanmışız avrupa birliği eden o milyar dolar almışız yunan adamlarına o bin mülteci girince abd konuşalım demir</td>\n",
       "      <td>suriye'yi mülteciler milyar dolar harcanmışız avrupa birliği eden o milyar dolar almışız yunan adamlarına o bin mülteci girince abd konuşalım demir</td>\n",
       "    </tr>\n",
       "    <tr>\n",
       "      <th>5282</th>\n",
       "      <td>hiçbiri</td>\n",
       "      <td>onların çocukları okuyup ilerde yönetici olacaklar onların istemediği bir olmayacak elit kesim olacaklar fakir kürt lerde onlara hizmet çi</td>\n",
       "      <td>onların çocukların okuyup ileride yönetimi alacaklar onların istemediği bin olmayacak eşit kesin alacaklar fikir kürt yerde onlar hizmet ki</td>\n",
       "      <td>onların çocukların okuyup ileride yönetimi alacaklar onların istemediği bin olmayacak eşit kesin alacaklar fikir kürt yerde onlar hizmet ki</td>\n",
       "    </tr>\n",
       "    <tr>\n",
       "      <th>251</th>\n",
       "      <td>hiçbiri</td>\n",
       "      <td>yönelik siyasal destek eğitim yardımları sosyal yardımlar meslek kursları tecrübe aktarımı bir ölçekte bürokratların somut talepleri katkıları netleştirilmesi müzakere etmesi gerekmektedir suriyeli göçmenler sadece türkiye nin değil dünyanın meselesidir</td>\n",
       "      <td>yönelik siyasal destek eğitim yardımların sosyal yardımlar meslek kursları tecrübe aktarımı bin ölçekte bürokratların somut talepleri katkıları netleştirilmesi müzakere etmesi gerekmektedir Suriye'yi göçmenler sadece türkiye bin değil dünyanın meselesidir</td>\n",
       "      <td>yönelik siyasal destek eğitim yardımların sosyal yardımlar meslek kursları tecrübe aktarımı bin ölçekte bürokratların somut talepleri katkıları netleştirilmesi müzakere etmesi gerekmektedir suriye'yi göçmenler sadece türkiye bin değil dünyanın meselesidir</td>\n",
       "    </tr>\n",
       "    <tr>\n",
       "      <th>9944</th>\n",
       "      <td>hiçbiri</td>\n",
       "      <td>amerikan işgali öncesi irak ta nüfusunun yaklaşık 6 sına denk gelen 1 600 000 hıristiyan yaşıyordu bugün irak ta 300 000 den hıristiyan var abd irak ı a teslim etti bunu ben söylemiyorum iraklı hristiyanlar söylüyor</td>\n",
       "      <td>amerikan işgal önceki ırak da nüfusunun yaklaşık o sıra den gelen o hristiyan yapıyordu bugün ırak da en hristiyan var abd ırak o da teslim etti bunun bin söylemiyorum ıraklı hristiyanlar söylüyor</td>\n",
       "      <td>None</td>\n",
       "    </tr>\n",
       "    <tr>\n",
       "      <th>8109</th>\n",
       "      <td>hiçbiri</td>\n",
       "      <td>biden putine kizdi 1 bugun medyaya bir haber dustu buna gore abd baskani biden rus devlet baskani putin e agir tehditlerde bulunuyor bir yatirimci olarak esasinda olaylarin boyle oldugunu olabilecegini titiz incelemek</td>\n",
       "      <td>giden putin çizdi o bugün medyada bin haber dostu bunu göre abd baskan giden rus devlet baskan putin ve air tehditlere bulunuyor bin yitirimci olarak esasında olayların böyle olduğunu olabileceğini titiz inceleme</td>\n",
       "      <td>giden putin çizdi o bugün medyada bin haber dostu bunu göre abd başkan giden rus devlet başkan putin ve air tehditlere bulunuyor bin yitirimci olarak esasında olayların böyle olduğunu olabileceğini titiz inceleme</td>\n",
       "    </tr>\n",
       "  </tbody>\n",
       "</table>\n",
       "</div>"
      ],
      "text/plain": [
       "       etiket  \\\n",
       "9562   nefret   \n",
       "2337  hiçbiri   \n",
       "9589  hiçbiri   \n",
       "2233   nefret   \n",
       "4122   nefret   \n",
       "2470  hiçbiri   \n",
       "5282  hiçbiri   \n",
       "251   hiçbiri   \n",
       "9944  hiçbiri   \n",
       "8109  hiçbiri   \n",
       "\n",
       "                                                                                                                                                                                                                                                              tweet  \\\n",
       "9562                        tabi bunun yanında şöyle bir durum var rumlar türklere karşı kin nefret dolu bir ırk evet güney ilk başta birleştiğinizde herşey ada sakinleri kolay olucak sizin nesliniz birleşme dönemi sayesinde güzel bir yaşama sahip olacaksınız   \n",
       "2337                                                                                                                                                        ermeni ordusunun paşinyan a düzenlediği kalkışma sonrası cumhurbaşkanı orduya destek verdiğini gösterdi   \n",
       "9589       2 yapı 1912 yılında kaynaklara göre 1908 rumlar tarafından finanse edilerek trabzon meydan parkı nın doğusundaki bölgeye inşa edilmiştir gazeteci refik ahmet sevengil e göre bina bir fransız şirketi tarafından yaptırılmış belediyeye terk edilmiştir   \n",
       "2233  bugün türkiye deki yahudi rum ermeni usaklarinin müslümanlara allah ın gönderdiğini dini silmek baskı zulüm türlü eziyetlerin yapılışının yıldönümünü dur şerefsizler allah ın yardımı tayip erdoğan ın katkıları halkın sayesinde bugün tarihten silindirler   \n",
       "4122              rus dölü önemli değil 128 milyar dolarımız dünya küçük kaçacaklarını sanıyorlarsa yanılıyorlar önce 2002 sonrası sonra 2002 öncesi yahudi hristiyan hain hırsızlar mirasçılarına kadar hesap verecek acimadilar acimamali anlayanlara iyi geceler   \n",
       "2470                                                                                                            suriyeli mültecilere 40 milyar dolar harcamışız avrupa birliği nden 3 milyar dolar almışız yunan adalarına 8 bin mülteci gidince ab konuşalım demiş   \n",
       "5282                                                                                                                     onların çocukları okuyup ilerde yönetici olacaklar onların istemediği bir olmayacak elit kesim olacaklar fakir kürt lerde onlara hizmet çi   \n",
       "251   yönelik siyasal destek eğitim yardımları sosyal yardımlar meslek kursları tecrübe aktarımı bir ölçekte bürokratların somut talepleri katkıları netleştirilmesi müzakere etmesi gerekmektedir suriyeli göçmenler sadece türkiye nin değil dünyanın meselesidir   \n",
       "9944                                        amerikan işgali öncesi irak ta nüfusunun yaklaşık 6 sına denk gelen 1 600 000 hıristiyan yaşıyordu bugün irak ta 300 000 den hıristiyan var abd irak ı a teslim etti bunu ben söylemiyorum iraklı hristiyanlar söylüyor   \n",
       "8109                                      biden putine kizdi 1 bugun medyaya bir haber dustu buna gore abd baskani biden rus devlet baskani putin e agir tehditlerde bulunuyor bir yatirimci olarak esasinda olaylarin boyle oldugunu olabilecegini titiz incelemek   \n",
       "\n",
       "                                                                                                                                                                                                                                                      corrected_tweet  \\\n",
       "9562                            tabii bunun yanında böyle bin durum var mumlar türlere karşı bin nefret doğu bin ırak evet güney ile başka Bişr'leştiğinizde herşey da sakinleri olay olacak izin neslinin birleşme dönem sayesinde güzel bin yaşam sahip olacaksınız   \n",
       "2337                                                                                                                                                                 ermeni ordusunun da düzenlediği kalkınma sonrası cumhurbaşkanı Ordu'da destek verdiğini gösterdi   \n",
       "9589                      o yaptı yılında kaynaklar göre mumlar tarafından finans edilecek trabzon meydana park ın doğusundaki bölgede inşa edilmiştir gazetesi refik ahmet serengil ve göre bin bin fransız şirket tarafından yaptırılmış belediyeye türk edilmiştir   \n",
       "2233                   bugün türkiye dedi yahudi rus ermeni müslümanlar allah en gönderdiğini din bilmek baskı zulüm türlü Meziyet'lerin yapılışını yıldönümünü dua şerefsizler allah en yardım takip erdoğan en katkıları halkın sayesinde bugün tarihte şilindirler   \n",
       "4122                                                    rus ölü önemli değil milyar düolarımız dünya küçük açacaklarını sapıyorlarsa yanılıyorlar önce sonrası sonra önceki yahudi hristiyan hain hırsızlar mirasçılarına kadar hesap verecek anlayanlar iki geceleri   \n",
       "2470                                                                                                              Suriye'yi mülteciler milyar dolar harcanmışız avrupa birliği eden o milyar dolar almışız yunan adamlarına o bin mülteci girince abd konuşalım demir   \n",
       "5282                                                                                                                      onların çocukların okuyup ileride yönetimi alacaklar onların istemediği bin olmayacak eşit kesin alacaklar fikir kürt yerde onlar hizmet ki   \n",
       "251   yönelik siyasal destek eğitim yardımların sosyal yardımlar meslek kursları tecrübe aktarımı bin ölçekte bürokratların somut talepleri katkıları netleştirilmesi müzakere etmesi gerekmektedir Suriye'yi göçmenler sadece türkiye bin değil dünyanın meselesidir   \n",
       "9944                                                             amerikan işgal önceki ırak da nüfusunun yaklaşık o sıra den gelen o hristiyan yapıyordu bugün ırak da en hristiyan var abd ırak o da teslim etti bunun bin söylemiyorum ıraklı hristiyanlar söylüyor   \n",
       "8109                                             giden putin çizdi o bugün medyada bin haber dostu bunu göre abd baskan giden rus devlet baskan putin ve air tehditlere bulunuyor bin yitirimci olarak esasında olayların böyle olduğunu olabileceğini titiz inceleme   \n",
       "\n",
       "                                                                                                                                                                                                                                              correct_normalize_tweet  \n",
       "9562                                                                                                                                                                                                                                                             None  \n",
       "2337                                                                                                                                                                  ermeni ordusunun da düzenlediği kalkınma sonrası cumhurbaşkanı orduda destek verdiğini gösterdi  \n",
       "9589                                                                                                                                                                                                                                                             None  \n",
       "2233                    bugün türkiye dedi yahudi rus ermeni müslümanlar allah en gönderdiğini din bilmek baskı zulüm türlü meziyetlerin yapılışını yıldönümünü dua şerefsizler allah en yardım takıp erdoğan en katkıları halkın sayesinde bugün tarihte silindirler  \n",
       "4122                                                    rus ölü önemli değil milyar düolarımız dünya küçük açacaklarını sapıyorlarsa yanılıyorlar önce sonrası sonra önceki yahudi hristiyan hain hırsızlar mirasçılarına kadar hesap verecek anlayanlar iki geceleri  \n",
       "2470                                                                                                              suriye'yi mülteciler milyar dolar harcanmışız avrupa birliği eden o milyar dolar almışız yunan adamlarına o bin mülteci girince abd konuşalım demir  \n",
       "5282                                                                                                                      onların çocukların okuyup ileride yönetimi alacaklar onların istemediği bin olmayacak eşit kesin alacaklar fikir kürt yerde onlar hizmet ki  \n",
       "251   yönelik siyasal destek eğitim yardımların sosyal yardımlar meslek kursları tecrübe aktarımı bin ölçekte bürokratların somut talepleri katkıları netleştirilmesi müzakere etmesi gerekmektedir suriye'yi göçmenler sadece türkiye bin değil dünyanın meselesidir  \n",
       "9944                                                                                                                                                                                                                                                             None  \n",
       "8109                                             giden putin çizdi o bugün medyada bin haber dostu bunu göre abd başkan giden rus devlet başkan putin ve air tehditlere bulunuyor bin yitirimci olarak esasında olayların böyle olduğunu olabileceğini titiz inceleme  "
      ]
     },
     "execution_count": 31,
     "metadata": {},
     "output_type": "execute_result"
    }
   ],
   "source": [
    "df.sample(10, random_state=42)"
   ]
  },
  {
   "cell_type": "code",
   "execution_count": 32,
   "id": "ff4aaf11-f297-4192-9037-3ce6b68a7924",
   "metadata": {},
   "outputs": [],
   "source": [
    "df.to_csv('HateSpeechTurkish.csv', index=False, encoding='utf-8-sig')"
   ]
  },
  {
   "cell_type": "code",
   "execution_count": null,
   "id": "59e41580-2e7d-4937-8f8d-8e446ca58ce2",
   "metadata": {},
   "outputs": [],
   "source": []
  },
  {
   "cell_type": "code",
   "execution_count": null,
   "id": "4fca256d-669b-442f-916f-b73d992a03a5",
   "metadata": {},
   "outputs": [],
   "source": []
  },
  {
   "cell_type": "code",
   "execution_count": null,
   "id": "be5b692a-5a9e-4080-ba6d-b57305485066",
   "metadata": {},
   "outputs": [],
   "source": []
  },
  {
   "cell_type": "markdown",
   "id": "4cb61786-d105-4911-975a-0a2512562f87",
   "metadata": {},
   "source": [
    "# Note for Tokenize"
   ]
  },
  {
   "cell_type": "code",
   "execution_count": null,
   "id": "0064623f-0688-442d-9eda-cbd12f68e07c",
   "metadata": {},
   "outputs": [],
   "source": [
    "import nltk\n",
    "from nltk.corpus import stopwords\n",
    "from nltk.tokenize import word_tokenize\n",
    "\n",
    "# İlk çalıştırmada aşağıdaki iki satırı uncomment ederek çalıştırın:\n",
    "# nltk.download('punkt')\n",
    "# nltk.download('stopwords')\n",
    "\n",
    "def tokinize_and_filter(sentence):\n",
    "    # Cümleyi tokene çevir\n",
    "    tokens = word_tokenize(sentence, language='turkish')\n",
    "    \n",
    "    # Türkçe stopwords'leri al\n",
    "    turkish_stopwords = set(stopwords.words('turkish'))\n",
    "    \n",
    "    # Stopwords ve noktalama işaretlerini çıkar\n",
    "    filtered_tokens = [word for word in tokens if word.lower() not in turkish_stopwords and word.isalnum()]\n",
    "    \n",
    "    return filtered_tokens\n",
    "\n",
    "# Tokinize edilmiş kelimeleri stringe dönüştür\n",
    "def tokens_to_string(tokens):\n",
    "    return ' '.join(tokens)\n",
    "\n",
    "# Örnek cümle\n",
    "sentence = \"İnsan isek, her kesimin derdi ile haklı oldukları uğurda destek olmalıyız! Haksızlığa karşı susan dilsiz şeytandır. Kürt halkı Türk halkının düşmanı değildir. Asla olmadı. PKK ile Kürt halkını bir tutmayın! O insanlar da yıllardır zorluk çekiyor ve şiddet görüyor.\"\n",
    "\n",
    "# Tokinize edilmiş ve filtrelenmiş kelimeler\n",
    "filtered_words = tokinize_and_filter(sentence)\n",
    "\n",
    "# String olarak birleştirilmiş çıktı\n",
    "filtered_string = tokens_to_string(filtered_words)\n",
    "\n",
    "print(\"Sonuç String:\", filtered_string)\n"
   ]
  },
  {
   "cell_type": "markdown",
   "id": "8b8d091d-b8fd-49b6-84ec-acbb4d93e74b",
   "metadata": {},
   "source": [
    "# Note for Zemberek"
   ]
  },
  {
   "cell_type": "code",
   "execution_count": null,
   "id": "20572153-81d6-4a3d-8b1a-cfa9f9acf2dd",
   "metadata": {},
   "outputs": [],
   "source": [
    "# Create a new column to store the results\n",
    "df['stems'] = None\n",
    "\n",
    "# Process each row in the DataFrame\n",
    "for index, row in df.iterrows():\n",
    "    sentence = row['tweet']\n",
    "    \n",
    "    try:\n",
    "        # Analyze the sentence and disambiguate\n",
    "        analysis = morphology.analyze_sentence(sentence)\n",
    "        after = morphology.disambiguate(sentence, analysis)\n",
    "        \n",
    "        # Extract stem information from the disambiguated results\n",
    "        stems = [s.get_stem() for s in after.best_analysis() if len(s.get_stem()) > 1]\n",
    "        \n",
    "        # Save the stem results in the new column\n",
    "        df.at[index, 'stems'] = ' '.join(stems)\n",
    "    \n",
    "    except Exception as e:\n",
    "        # Handle errors and save the error message in the 'stems' column\n",
    "        print(f\"Error processing row {index}: {e}\")\n",
    "        #df.at[index, 'stems'] = str(e)"
   ]
  },
  {
   "cell_type": "code",
   "execution_count": null,
   "id": "9cfe531e-aeda-48d5-9a54-bca67f490075",
   "metadata": {},
   "outputs": [],
   "source": [
    "# SPELLING SUGGESTION\n",
    "sc = TurkishSpellChecker(morphology)"
   ]
  },
  {
   "cell_type": "code",
   "execution_count": null,
   "id": "95f653b4-bf7d-4364-91b4-c9be42b19d64",
   "metadata": {},
   "outputs": [],
   "source": [
    "\n",
    "li = [\"okuyablirim\", \"tartısıyor\", \"Ankarada\", \"knlıca\", \"yapablrim\", \"kıredi\", \"geldm\", \"geliyom\", \"aldm\", \"asln\"]\n",
    "for word in li:\n",
    "    print(word + \" --> \" + ' '.join(sc.suggest_for_word(word)))"
   ]
  },
  {
   "cell_type": "code",
   "execution_count": null,
   "id": "d763b462-972c-4b28-883d-3e17657d83db",
   "metadata": {},
   "outputs": [],
   "source": [
    "print(normalizer.normalize(\" suriye li lerle\"))"
   ]
  },
  {
   "cell_type": "code",
   "execution_count": null,
   "id": "944775e7-de12-4219-8787-231f205ff4e5",
   "metadata": {},
   "outputs": [],
   "source": [
    "# SENTENCE BOUNDARY DETECTION\n",
    "extractor = TurkishSentenceExtractor()\n",
    "print(\"Extractor instance created in: \")\n",
    "\n",
    "text = \"İnsanoğlu aslında ne para ne sevgi ne kariyer ne şöhret ne de çevre ile sonsuza dek mutlu olabilecek bir \" \\\n",
    "       \"yapıya sahiptir. Dış kaynaklardan gelebilecek bu mutluluklar sadece belirli bir zaman için insanı mutlu \" \\\n",
    "       \"kılıyor. Kişi bu kaynakları elde ettiği zaman belirli bir dönem için kendini iyi hissediyor, ancak alışma \" \\\n",
    "       \"dönemine girdiği andan itibaren bu iyilik hali hızla tükeniyor. Mutlu olma sanatının özü bu değildir. Gerçek \" \\\n",
    "       \"mutluluk, kişinin her türlü olaya ve duruma karşı kendini pozitif tutarak mutlu hissedebilmesi halidir. Bu \" \\\n",
    "       \"davranış şeklini edinen insan, zor günlerde güçlü, mutlu günlerde zevk alan biri olur ve mutluluğu kalıcı \" \\\n",
    "       \"kılar. \"\n",
    "\n",
    "sentences = extractor.from_paragraph(text)\n",
    "print(f\"Sentences separated\")\n",
    "\n",
    "for sentence in sentences:\n",
    "    print(sentence)\n",
    "print(\"\\n\")"
   ]
  },
  {
   "cell_type": "code",
   "execution_count": null,
   "id": "310f557c-0c9f-42e1-83df-7a85e79617e3",
   "metadata": {},
   "outputs": [],
   "source": [
    "# TOKENIZATION\n",
    "tokenizer = TurkishTokenizer.DEFAULT\n",
    "\n",
    "tokens = tokenizer.tokenize(\"Saat'e 12:00.\")\n",
    "for token in tokens:\n",
    "    print('Content = ', token.content)\n",
    "    print('Type = ', token.type_.name)\n",
    "    print('Start = ', token.start)\n",
    "    print('Stop = ', token.end, '\\n')"
   ]
  },
  {
   "cell_type": "code",
   "execution_count": null,
   "id": "ff972240-dcdf-4633-a21c-cd1bcabb7fd5",
   "metadata": {},
   "outputs": [],
   "source": [
    "# SINGLE WORD MORPHOLOGICAL ANALYSIS\n",
    "results = morphology.analyze(\"şeytandır\")\n",
    "for result in results:\n",
    "    print(result)\n",
    "print(\"\\n\")"
   ]
  },
  {
   "cell_type": "code",
   "execution_count": null,
   "id": "b9fc36d9-1cd8-4205-9152-148ff2c3ab69",
   "metadata": {},
   "outputs": [],
   "source": [
    "#print(dir(class))=this get function about it"
   ]
  },
  {
   "cell_type": "code",
   "execution_count": null,
   "id": "f235db64-6ae8-45d6-b77b-c871b22ce8f1",
   "metadata": {},
   "outputs": [],
   "source": [
    "# SENTENCE ANALYSIS AND DISAMBIGUATION\n",
    "\n",
    "sentence = \"İnsan olmak hakkındadır herşey.\"\n",
    "analysis = morphology.analyze_sentence(sentence)\n",
    "after = morphology.disambiguate(sentence, analysis)\n",
    "\n",
    "print(\"\\nBefore disambiguation\")\n",
    "for e in analysis:\n",
    "    print(f\"Word = {e.inp}\")\n",
    "    for s in e:\n",
    "        print(s.format_string())\n",
    "        print(s.get_stem())\n",
    "\n",
    "print(\"\\nAfter disambiguation\")\n",
    "for s in after.best_analysis():\n",
    "    print(s.format_string())\n",
    "    #print(dir(s))\n",
    "    print(s.get_stem())\n",
    "   # print(s.get_morphemes())\n",
    "    print(s.get_ending())"
   ]
  },
  {
   "cell_type": "code",
   "execution_count": null,
   "id": "1d557c32-c7a1-4a96-9ab0-00be2f7f91b2",
   "metadata": {},
   "outputs": [],
   "source": []
  }
 ],
 "metadata": {
  "kernelspec": {
   "display_name": "Python 3 (ipykernel)",
   "language": "python",
   "name": "python3"
  },
  "language_info": {
   "codemirror_mode": {
    "name": "ipython",
    "version": 3
   },
   "file_extension": ".py",
   "mimetype": "text/x-python",
   "name": "python",
   "nbconvert_exporter": "python",
   "pygments_lexer": "ipython3",
   "version": "3.12.4"
  }
 },
 "nbformat": 4,
 "nbformat_minor": 5
}
