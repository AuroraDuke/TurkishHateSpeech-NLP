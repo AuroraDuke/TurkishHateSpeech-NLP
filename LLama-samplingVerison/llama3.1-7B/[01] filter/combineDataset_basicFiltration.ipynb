{
 "cells": [
  {
   "cell_type": "code",
   "execution_count": 1,
   "id": "6308e2df-5816-4c8d-9999-da3a002ef531",
   "metadata": {},
   "outputs": [],
   "source": [
    "import pandas as pd\n",
    "import re\n",
    "import emoji\n",
    "import nltk\n",
    "nltk.download('punkt')\n",
    "from nltk.corpus import stopwords\n",
    "from nltk.tokenize import word_tokenize"
   ]
  },
  {
   "cell_type": "code",
   "execution_count": 2,
   "id": "8fb9c6d1-83e2-4e9c-8688-1add42504f9d",
   "metadata": {},
   "outputs": [],
   "source": [
    "pd.set_option(\"display.max_colwidth\", None) "
   ]
  },
  {
   "cell_type": "code",
   "execution_count": 3,
   "id": "ba4dbd60-3de4-40fd-8828-1d0c7949074f",
   "metadata": {},
   "outputs": [
    {
     "name": "stderr",
     "output_type": "stream",
     "text": [
      "[nltk_data] Downloading package punkt to\n",
      "[nltk_data]     C:\\Users\\ilker\\AppData\\Roaming\\nltk_data...\n",
      "[nltk_data]   Package punkt is already up-to-date!\n",
      "[nltk_data] Downloading package stopwords to\n",
      "[nltk_data]     C:\\Users\\ilker\\AppData\\Roaming\\nltk_data...\n",
      "[nltk_data]   Package stopwords is already up-to-date!\n"
     ]
    },
    {
     "data": {
      "text/plain": [
       "True"
      ]
     },
     "execution_count": 3,
     "metadata": {},
     "output_type": "execute_result"
    }
   ],
   "source": [
    "# Necessary NLTK downloads for the first run\n",
    "nltk.download('punkt')\n",
    "nltk.download('stopwords')"
   ]
  },
  {
   "cell_type": "code",
   "execution_count": 4,
   "id": "231cd8b2-cf62-47c4-a7d5-3b286e9f0d45",
   "metadata": {},
   "outputs": [],
   "source": [
    "# Define the path to the Excel file\n",
    "file_path = \"Türkçe Nefret Söylemi Veriseti.xlsx\"\n",
    "output_path = \"tokinized_and_filtered_hateSpeechLabels.csv\""
   ]
  },
  {
   "cell_type": "code",
   "execution_count": 5,
   "id": "b8d464fe-2641-45b4-8bdd-3c71205c733e",
   "metadata": {},
   "outputs": [],
   "source": [
    "# Load the Excel file and read all sheets\n",
    "excel_data = pd.ExcelFile(file_path)\n",
    "\n",
    "sheets = []"
   ]
  },
  {
   "cell_type": "code",
   "execution_count": 6,
   "id": "dbe6299f-88cc-485b-bbdf-183dead7fe94",
   "metadata": {},
   "outputs": [],
   "source": [
    "for name in excel_data.sheet_names[1:]:\n",
    "    sheet = pd.read_excel(excel_data, sheet_name=name, header=1)\n",
    "\n",
    "    # Normalize column names\n",
    "    sheet.columns = [col.strip().lower().replace(\" \", \"_\") for col in sheet.columns]\n",
    "\n",
    "    # Rename 'rowid' to 'row_id' if it exists\n",
    "    sheet.rename(columns={'rowid': 'row_id'}, inplace=True)\n",
    "\n",
    "    # Drop columns that are entirely empty or have only one unique value\n",
    "    sheet = sheet.dropna(axis=1, how='all')\n",
    "    sheet = sheet.loc[:, sheet.nunique(dropna=True) > 1]\n",
    "\n",
    "    # Reset index\n",
    "    sheet.reset_index(drop=True, inplace=True)\n",
    "    sheets.append(sheet)\n"
   ]
  },
  {
   "cell_type": "code",
   "execution_count": 7,
   "id": "e57c1b45-b921-449d-938b-59642e9f2557",
   "metadata": {},
   "outputs": [
    {
     "name": "stdout",
     "output_type": "stream",
     "text": [
      "Merged Data Columns: ['row_id', 'tweet', 'etiket', 'alt_etiket', 'etiket.1', 'alt_etiket.1', 'etiket.2', 'alt_etiket.2', 'etiket.3', 'alt_etiket.3', 'tweet_id', 'time', 'favorited', 'retweeted', 'country', 'user', 'user_-_name', 'user_-_id', 'user_-_description', 'user_-_url', 'user_-_creation_time', 'user_-_location', 'user_-_statuses', 'user_-_followers', 'user_-_friends', 'user_-_favourites', 'latitude', 'longitude', 'is_favourited', 'user_-_profile_image', 'user_-_language', 'user_-_time_zone']\n"
     ]
    }
   ],
   "source": [
    "# Combine all sheets into one dataframe\n",
    "merged_data = pd.concat(sheets, ignore_index=True)\n",
    "\n",
    "# Print column names of merged_data\n",
    "print(f\"Merged Data Columns: {merged_data.columns.tolist()}\")"
   ]
  },
  {
   "cell_type": "code",
   "execution_count": 8,
   "id": "79535726-f48c-4f8c-9d0f-a2c57739a9e3",
   "metadata": {},
   "outputs": [
    {
     "name": "stdout",
     "output_type": "stream",
     "text": [
      "after filter Merged Data Columns: ['row_id', 'tweet', 'etiket']\n"
     ]
    }
   ],
   "source": [
    "# Clean the combined dataframe by dropping unnecessary columns\n",
    "merged_data = merged_data.dropna(axis=1, how='all')\n",
    "merged_data = merged_data.loc[:, merged_data.nunique(dropna=True) > 1]\n",
    "\n",
    "# Select only the required columns\n",
    "required_columns = ['row_id', 'tweet', 'etiket']\n",
    "merged_data = merged_data[[col for col in required_columns if col in merged_data.columns]]\n",
    "\n",
    "print(f\"after filter Merged Data Columns: {merged_data.columns.tolist()}\")"
   ]
  },
  {
   "cell_type": "code",
   "execution_count": 9,
   "id": "fdec2ce5-0f46-461b-88cd-60fdc2b99b32",
   "metadata": {},
   "outputs": [
    {
     "data": {
      "text/html": [
       "<div>\n",
       "<style scoped>\n",
       "    .dataframe tbody tr th:only-of-type {\n",
       "        vertical-align: middle;\n",
       "    }\n",
       "\n",
       "    .dataframe tbody tr th {\n",
       "        vertical-align: top;\n",
       "    }\n",
       "\n",
       "    .dataframe thead th {\n",
       "        text-align: right;\n",
       "    }\n",
       "</style>\n",
       "<table border=\"1\" class=\"dataframe\">\n",
       "  <thead>\n",
       "    <tr style=\"text-align: right;\">\n",
       "      <th></th>\n",
       "      <th>row_id</th>\n",
       "      <th>tweet</th>\n",
       "      <th>etiket</th>\n",
       "    </tr>\n",
       "  </thead>\n",
       "  <tbody>\n",
       "    <tr>\n",
       "      <th>8</th>\n",
       "      <td>Row635</td>\n",
       "      <td>Sizin suriyeli, afgan, pakistanlı politikanıza nokta nokta nokta https://t.co/Ul1wiPAHZO</td>\n",
       "      <td>hiçbiri</td>\n",
       "    </tr>\n",
       "    <tr>\n",
       "      <th>1</th>\n",
       "      <td>Row593</td>\n",
       "      <td>Ciddiye alan tüm dünyanın beynini sileyim.. \\n\\nIşi gücü boş gündem.. 2 sene oldu membice giriyor 1 senedir Fırat'ın doğusuna 6 senedir Suriye de savaş bitiyor..\\nSonuç 5 milyon Suriyeli bize girdi.. https://t.co/91cFqVPZtC</td>\n",
       "      <td>saldırgan</td>\n",
       "    </tr>\n",
       "    <tr>\n",
       "      <th>5</th>\n",
       "      <td>Row612</td>\n",
       "      <td>Çocuklar sadece Türkiye'de değil #Irak ve #Suriye'de de terör örgütlerinin uzantıları aracılığıyla savaştırılıyor.\\n\\nIraklı ve Suriyeli çocuklar da örgüt tarafından kandırılarak veya kaçırılarak alıkonuluyor.</td>\n",
       "      <td>hiçbiri</td>\n",
       "    </tr>\n",
       "    <tr>\n",
       "      <th>0</th>\n",
       "      <td>Row589</td>\n",
       "      <td>ya orospu cocuklari hepiniz niye ayni anda yaziyonuz tam ciddi iliski yapcam biri geliyo surprise motherfucker diye cikiyo sonra suriyeli gibi uruyolar aklim karisiyo</td>\n",
       "      <td>nefret</td>\n",
       "    </tr>\n",
       "    <tr>\n",
       "      <th>7</th>\n",
       "      <td>Row621</td>\n",
       "      <td>Keşke sadece Suriyeli çalıştıran işverene teşvik verseler?\\nhttps://t.co/9DhPneRDU1</td>\n",
       "      <td>hiçbiri</td>\n",
       "    </tr>\n",
       "    <tr>\n",
       "      <th>2</th>\n",
       "      <td>Row600</td>\n",
       "      <td>Kayıtlı İstihdama geçiş programına göre (?)\\nŞimdilik İstanbul, Bursa, Adana, Hatay ve Konya'da\\nistihdam edilecek her bir Suriyeli ve Türk işçi için\\nsosyal güvenlik prim bedeline karşılık\\n6 ay boyunca, aylık 950 TL teşvik sağlanacakmış.\\nBu şey değil mi?\\n\"promosyon\"\\nYazıklar olsun</td>\n",
       "      <td>hiçbiri</td>\n",
       "    </tr>\n",
       "    <tr>\n",
       "      <th>9</th>\n",
       "      <td>Row639</td>\n",
       "      <td>Ülkemde (büyükelçi dahil) Suriyeli istemiyorum.</td>\n",
       "      <td>nefret</td>\n",
       "    </tr>\n",
       "    <tr>\n",
       "      <th>4</th>\n",
       "      <td>Row607</td>\n",
       "      <td>Cölesi bitmiş suriyeli gibiyim bugün</td>\n",
       "      <td>hiçbiri</td>\n",
       "    </tr>\n",
       "    <tr>\n",
       "      <th>3</th>\n",
       "      <td>Row604</td>\n",
       "      <td>Hastaneye git Suriyeli. PTT ye git Suriyeli. Plaja git Suriyeli. Git bakalım camiye var mı Suriyeli?\\nNeymiş din kardeşi.\\nHadi oradan!</td>\n",
       "      <td>nefret</td>\n",
       "    </tr>\n",
       "    <tr>\n",
       "      <th>6</th>\n",
       "      <td>Row619</td>\n",
       "      <td>Suriyeli olduğunuzu biliyorduk 😝 https://t.co/DknrYtJFXt</td>\n",
       "      <td>hiçbiri</td>\n",
       "    </tr>\n",
       "  </tbody>\n",
       "</table>\n",
       "</div>"
      ],
      "text/plain": [
       "   row_id  \\\n",
       "8  Row635   \n",
       "1  Row593   \n",
       "5  Row612   \n",
       "0  Row589   \n",
       "7  Row621   \n",
       "2  Row600   \n",
       "9  Row639   \n",
       "4  Row607   \n",
       "3  Row604   \n",
       "6  Row619   \n",
       "\n",
       "                                                                                                                                                                                                                                                                                            tweet  \\\n",
       "8                                                                                                                                                                                                        Sizin suriyeli, afgan, pakistanlı politikanıza nokta nokta nokta https://t.co/Ul1wiPAHZO   \n",
       "1                                                                 Ciddiye alan tüm dünyanın beynini sileyim.. \\n\\nIşi gücü boş gündem.. 2 sene oldu membice giriyor 1 senedir Fırat'ın doğusuna 6 senedir Suriye de savaş bitiyor..\\nSonuç 5 milyon Suriyeli bize girdi.. https://t.co/91cFqVPZtC   \n",
       "5                                                                               Çocuklar sadece Türkiye'de değil #Irak ve #Suriye'de de terör örgütlerinin uzantıları aracılığıyla savaştırılıyor.\\n\\nIraklı ve Suriyeli çocuklar da örgüt tarafından kandırılarak veya kaçırılarak alıkonuluyor.   \n",
       "0                                                                                                                          ya orospu cocuklari hepiniz niye ayni anda yaziyonuz tam ciddi iliski yapcam biri geliyo surprise motherfucker diye cikiyo sonra suriyeli gibi uruyolar aklim karisiyo   \n",
       "7                                                                                                                                                                                                             Keşke sadece Suriyeli çalıştıran işverene teşvik verseler?\\nhttps://t.co/9DhPneRDU1   \n",
       "2  Kayıtlı İstihdama geçiş programına göre (?)\\nŞimdilik İstanbul, Bursa, Adana, Hatay ve Konya'da\\nistihdam edilecek her bir Suriyeli ve Türk işçi için\\nsosyal güvenlik prim bedeline karşılık\\n6 ay boyunca, aylık 950 TL teşvik sağlanacakmış.\\nBu şey değil mi?\\n\"promosyon\"\\nYazıklar olsun   \n",
       "9                                                                                                                                                                                                                                                 Ülkemde (büyükelçi dahil) Suriyeli istemiyorum.   \n",
       "4                                                                                                                                                                                                                                                            Cölesi bitmiş suriyeli gibiyim bugün   \n",
       "3                                                                                                                                                         Hastaneye git Suriyeli. PTT ye git Suriyeli. Plaja git Suriyeli. Git bakalım camiye var mı Suriyeli?\\nNeymiş din kardeşi.\\nHadi oradan!   \n",
       "6                                                                                                                                                                                                                                        Suriyeli olduğunuzu biliyorduk 😝 https://t.co/DknrYtJFXt   \n",
       "\n",
       "      etiket  \n",
       "8    hiçbiri  \n",
       "1  saldırgan  \n",
       "5    hiçbiri  \n",
       "0     nefret  \n",
       "7    hiçbiri  \n",
       "2    hiçbiri  \n",
       "9     nefret  \n",
       "4    hiçbiri  \n",
       "3     nefret  \n",
       "6    hiçbiri  "
      ]
     },
     "execution_count": 9,
     "metadata": {},
     "output_type": "execute_result"
    }
   ],
   "source": [
    "merged_data.head(10).sample(10, random_state=42)"
   ]
  },
  {
   "cell_type": "code",
   "execution_count": 10,
   "id": "59444bc4-e2e5-4d6f-a258-15c0328b8e68",
   "metadata": {},
   "outputs": [
    {
     "name": "stdout",
     "output_type": "stream",
     "text": [
      "(10224, 3)\n"
     ]
    }
   ],
   "source": [
    "print(merged_data.shape)"
   ]
  },
  {
   "cell_type": "code",
   "execution_count": 11,
   "id": "99517777-5beb-4703-8554-ec0f1736180d",
   "metadata": {},
   "outputs": [],
   "source": [
    "def tokinize_and_filter(sentence):\n",
    "    if not isinstance(sentence, str):  # Return the original value if the cell is not a string\n",
    "        return sentence\n",
    "\n",
    "    # Print input text\n",
    "    #print(f\"Original text: {sentence}\")\n",
    "    # Remove URLs\n",
    "    sentence = re.sub(r\"http\\S+|www\\S+|https\\S+\", \"\", sentence)\n",
    "\n",
    "    # Remove emojis\n",
    "    sentence = emoji.replace_emoji(sentence, \" \")\n",
    "  \n",
    "    # Convert text to lowercase and remove punctuation\n",
    "    sentence = re.sub(r\"\"\"[\\.,!?;:\\\"'\\(\\)\\[\\]{}<>@#$%^&*\\-_+=|\\\\/~`]+\"\"\", \" \", sentence.lower())\n",
    "    sentence = re.sub(r\"  \", \" \", sentence)\n",
    "\n",
    "    #convert from sentence to token\n",
    "    tokens = word_tokenize(sentence, language='turkish')\n",
    "    \n",
    "    # Load Turkish stopwords\n",
    "    turkce_stopwords = set(stopwords.words('turkish'))\n",
    "    # Split text and filter out stopwords\n",
    "    filtered_tokens = [word for word in tokens if word not in turkce_stopwords and word.isalnum()]\n",
    "\n",
    "    # Join the filtered tokens back into a string\n",
    "    result = \" \".join(filtered_tokens)\n",
    "\n",
    "    # Print output text\n",
    "   # print(f\"Filtered text: {result}\")\n",
    "\n",
    "    return result\n"
   ]
  },
  {
   "cell_type": "code",
   "execution_count": 12,
   "id": "a5d33313-0ac5-44a0-9ff7-d984e9d1475b",
   "metadata": {},
   "outputs": [],
   "source": [
    "# Clean the 'tweet' column\n",
    "if 'tweet' in merged_data.columns:\n",
    "    merged_data['tweet'] = merged_data['tweet'].apply(tokinize_and_filter)\n"
   ]
  },
  {
   "cell_type": "code",
   "execution_count": 13,
   "id": "c46e375f-48af-4150-ac42-285d466fe529",
   "metadata": {},
   "outputs": [
    {
     "data": {
      "text/html": [
       "<div>\n",
       "<style scoped>\n",
       "    .dataframe tbody tr th:only-of-type {\n",
       "        vertical-align: middle;\n",
       "    }\n",
       "\n",
       "    .dataframe tbody tr th {\n",
       "        vertical-align: top;\n",
       "    }\n",
       "\n",
       "    .dataframe thead th {\n",
       "        text-align: right;\n",
       "    }\n",
       "</style>\n",
       "<table border=\"1\" class=\"dataframe\">\n",
       "  <thead>\n",
       "    <tr style=\"text-align: right;\">\n",
       "      <th></th>\n",
       "      <th>row_id</th>\n",
       "      <th>tweet</th>\n",
       "      <th>etiket</th>\n",
       "    </tr>\n",
       "  </thead>\n",
       "  <tbody>\n",
       "    <tr>\n",
       "      <th>8</th>\n",
       "      <td>Row635</td>\n",
       "      <td>sizin suriyeli afgan pakistanlı politikanıza nokta nokta nokta</td>\n",
       "      <td>hiçbiri</td>\n",
       "    </tr>\n",
       "    <tr>\n",
       "      <th>1</th>\n",
       "      <td>Row593</td>\n",
       "      <td>ciddiye alan dünyanın beynini sileyim işi gücü boş gündem 2 sene oldu membice giriyor 1 senedir fırat ın doğusuna 6 senedir suriye savaş bitiyor sonuç 5 milyon suriyeli bize girdi</td>\n",
       "      <td>saldırgan</td>\n",
       "    </tr>\n",
       "    <tr>\n",
       "      <th>5</th>\n",
       "      <td>Row612</td>\n",
       "      <td>çocuklar sadece türkiye değil irak suriye terör örgütlerinin uzantıları aracılığıyla savaştırılıyor iraklı suriyeli çocuklar örgüt tarafından kandırılarak kaçırılarak alıkonuluyor</td>\n",
       "      <td>hiçbiri</td>\n",
       "    </tr>\n",
       "    <tr>\n",
       "      <th>0</th>\n",
       "      <td>Row589</td>\n",
       "      <td>orospu cocuklari hepiniz ayni anda yaziyonuz tam ciddi iliski yapcam geliyo surprise motherfucker cikiyo sonra suriyeli uruyolar aklim karisiyo</td>\n",
       "      <td>nefret</td>\n",
       "    </tr>\n",
       "    <tr>\n",
       "      <th>7</th>\n",
       "      <td>Row621</td>\n",
       "      <td>keşke sadece suriyeli çalıştıran işverene teşvik verseler</td>\n",
       "      <td>hiçbiri</td>\n",
       "    </tr>\n",
       "    <tr>\n",
       "      <th>2</th>\n",
       "      <td>Row600</td>\n",
       "      <td>kayıtlı geçiş programına göre şimdilik bursa adana hatay konya istihdam edilecek bir suriyeli türk işçi sosyal güvenlik prim bedeline karşılık 6 ay boyunca aylık 950 tl teşvik sağlanacakmış değil mi promosyon yazıklar olsun</td>\n",
       "      <td>hiçbiri</td>\n",
       "    </tr>\n",
       "    <tr>\n",
       "      <th>9</th>\n",
       "      <td>Row639</td>\n",
       "      <td>ülkemde büyükelçi dahil suriyeli istemiyorum</td>\n",
       "      <td>nefret</td>\n",
       "    </tr>\n",
       "    <tr>\n",
       "      <th>4</th>\n",
       "      <td>Row607</td>\n",
       "      <td>cölesi bitmiş suriyeli gibiyim bugün</td>\n",
       "      <td>hiçbiri</td>\n",
       "    </tr>\n",
       "    <tr>\n",
       "      <th>3</th>\n",
       "      <td>Row604</td>\n",
       "      <td>hastaneye git suriyeli ptt ye git suriyeli plaja git suriyeli git bakalım camiye var suriyeli neymiş din kardeşi hadi oradan</td>\n",
       "      <td>nefret</td>\n",
       "    </tr>\n",
       "    <tr>\n",
       "      <th>6</th>\n",
       "      <td>Row619</td>\n",
       "      <td>suriyeli olduğunuzu biliyorduk</td>\n",
       "      <td>hiçbiri</td>\n",
       "    </tr>\n",
       "  </tbody>\n",
       "</table>\n",
       "</div>"
      ],
      "text/plain": [
       "   row_id  \\\n",
       "8  Row635   \n",
       "1  Row593   \n",
       "5  Row612   \n",
       "0  Row589   \n",
       "7  Row621   \n",
       "2  Row600   \n",
       "9  Row639   \n",
       "4  Row607   \n",
       "3  Row604   \n",
       "6  Row619   \n",
       "\n",
       "                                                                                                                                                                                                                             tweet  \\\n",
       "8                                                                                                                                                                   sizin suriyeli afgan pakistanlı politikanıza nokta nokta nokta   \n",
       "1                                              ciddiye alan dünyanın beynini sileyim işi gücü boş gündem 2 sene oldu membice giriyor 1 senedir fırat ın doğusuna 6 senedir suriye savaş bitiyor sonuç 5 milyon suriyeli bize girdi   \n",
       "5                                              çocuklar sadece türkiye değil irak suriye terör örgütlerinin uzantıları aracılığıyla savaştırılıyor iraklı suriyeli çocuklar örgüt tarafından kandırılarak kaçırılarak alıkonuluyor   \n",
       "0                                                                                  orospu cocuklari hepiniz ayni anda yaziyonuz tam ciddi iliski yapcam geliyo surprise motherfucker cikiyo sonra suriyeli uruyolar aklim karisiyo   \n",
       "7                                                                                                                                                                        keşke sadece suriyeli çalıştıran işverene teşvik verseler   \n",
       "2  kayıtlı geçiş programına göre şimdilik bursa adana hatay konya istihdam edilecek bir suriyeli türk işçi sosyal güvenlik prim bedeline karşılık 6 ay boyunca aylık 950 tl teşvik sağlanacakmış değil mi promosyon yazıklar olsun   \n",
       "9                                                                                                                                                                                     ülkemde büyükelçi dahil suriyeli istemiyorum   \n",
       "4                                                                                                                                                                                             cölesi bitmiş suriyeli gibiyim bugün   \n",
       "3                                                                                                     hastaneye git suriyeli ptt ye git suriyeli plaja git suriyeli git bakalım camiye var suriyeli neymiş din kardeşi hadi oradan   \n",
       "6                                                                                                                                                                                                   suriyeli olduğunuzu biliyorduk   \n",
       "\n",
       "      etiket  \n",
       "8    hiçbiri  \n",
       "1  saldırgan  \n",
       "5    hiçbiri  \n",
       "0     nefret  \n",
       "7    hiçbiri  \n",
       "2    hiçbiri  \n",
       "9     nefret  \n",
       "4    hiçbiri  \n",
       "3     nefret  \n",
       "6    hiçbiri  "
      ]
     },
     "execution_count": 13,
     "metadata": {},
     "output_type": "execute_result"
    }
   ],
   "source": [
    "merged_data.head(10).sample(10, random_state=42)"
   ]
  },
  {
   "cell_type": "code",
   "execution_count": 14,
   "id": "732f69f4-8031-4751-99ed-d454fddd7e59",
   "metadata": {},
   "outputs": [
    {
     "name": "stdout",
     "output_type": "stream",
     "text": [
      "(10224, 3)\n"
     ]
    }
   ],
   "source": [
    "print(merged_data.shape)"
   ]
  },
  {
   "cell_type": "code",
   "execution_count": 15,
   "id": "93f66034-9e49-436e-94c6-315effe70e95",
   "metadata": {},
   "outputs": [
    {
     "name": "stdout",
     "output_type": "stream",
     "text": [
      "0\n"
     ]
    }
   ],
   "source": [
    "print(merged_data[\"tweet\"].isnull().sum()) "
   ]
  },
  {
   "cell_type": "code",
   "execution_count": 16,
   "id": "8777fcb0-413a-4961-9bbd-50bd69da40a6",
   "metadata": {},
   "outputs": [
    {
     "name": "stdout",
     "output_type": "stream",
     "text": [
      "(10224, 3)\n"
     ]
    }
   ],
   "source": [
    "merged_data = merged_data.dropna(subset=['tweet'])\n",
    "merged_data = merged_data[merged_data['tweet'].str.strip() != \"\"]\n",
    "print(merged_data.shape)"
   ]
  },
  {
   "cell_type": "code",
   "execution_count": 17,
   "id": "382cf807-fac7-469d-9b87-a7dfab956668",
   "metadata": {},
   "outputs": [
    {
     "name": "stdout",
     "output_type": "stream",
     "text": [
      "All processes completed successfully, saved to 'tokinized_and_filtered_hateSpeechLabels.csv'.\n"
     ]
    }
   ],
   "source": [
    "# Save the cleaned data to a CSV file with UTF-8-SIG encoding\n",
    "merged_data.to_csv(output_path, index=False, encoding='utf-8-sig')\n",
    "print(f\"All processes completed successfully, saved to '{output_path}'.\")"
   ]
  },
  {
   "cell_type": "code",
   "execution_count": null,
   "id": "35d766ab-4475-4810-aefa-2c5bb37f5ac6",
   "metadata": {},
   "outputs": [],
   "source": []
  }
 ],
 "metadata": {
  "kernelspec": {
   "display_name": "Python 3 (ipykernel)",
   "language": "python",
   "name": "python3"
  },
  "language_info": {
   "codemirror_mode": {
    "name": "ipython",
    "version": 3
   },
   "file_extension": ".py",
   "mimetype": "text/x-python",
   "name": "python",
   "nbconvert_exporter": "python",
   "pygments_lexer": "ipython3",
   "version": "3.12.4"
  }
 },
 "nbformat": 4,
 "nbformat_minor": 5
}
