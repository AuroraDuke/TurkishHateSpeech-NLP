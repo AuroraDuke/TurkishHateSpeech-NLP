{
 "cells": [
  {
   "cell_type": "code",
   "execution_count": 25,
   "id": "015b2084-ec14-4c6e-824c-b2d6fecaa218",
   "metadata": {},
   "outputs": [],
   "source": [
    "import pandas as pd\n",
    "data = pd.read_csv(\"aı_data.csv\")\n"
   ]
  },
  {
   "cell_type": "code",
   "execution_count": 27,
   "id": "4934e2da-b602-4b9d-9386-5886b99b601c",
   "metadata": {},
   "outputs": [
    {
     "name": "stdout",
     "output_type": "stream",
     "text": [
      "Metin            2\n",
      "Sınıflandırma    0\n",
      "dtype: int64\n",
      "After drop null value:\n",
      "Metin            0\n",
      "Sınıflandırma    0\n",
      "dtype: int64\n"
     ]
    }
   ],
   "source": [
    "if data.isnull().values.any():\n",
    "    print(data.isnull().sum())\n",
    "    data.dropna(inplace=True)\n",
    "    print(\"After drop null value:\")\n",
    "print(data.isnull().sum())"
   ]
  },
  {
   "cell_type": "code",
   "execution_count": 29,
   "id": "be02f664-e8bb-4b42-98bf-3bc0f7125688",
   "metadata": {},
   "outputs": [],
   "source": [
    "data.columns = [\"tweet\", \"etiket\"]"
   ]
  },
  {
   "cell_type": "code",
   "execution_count": 31,
   "id": "b6205982-864c-4308-900f-9532513910c4",
   "metadata": {},
   "outputs": [],
   "source": [
    "data[\"etiket\"] = data[\"etiket\"].str.lower()"
   ]
  },
  {
   "cell_type": "code",
   "execution_count": 33,
   "id": "70badd9d-7639-498b-a092-acfb09597fc9",
   "metadata": {},
   "outputs": [
    {
     "name": "stdout",
     "output_type": "stream",
     "text": [
      "Label distribution:\n",
      "etiket\n",
      "nefret                            1790\n",
      "saldirgan                          921\n",
      "saldirgan / nefret / neutral       329\n",
      "neutral                            107\n",
      "nefret / saldirgan                  25\n",
      "saldirgan / nefret                  15\n",
      " saldirgan / nefret / neutral       10\n",
      "saldirgan / nefret / saldirgan       4\n",
      "nefret / neutral                     3\n",
      "nefret / saldırgan                   3\n",
      "Name: count, dtype: int64\n"
     ]
    }
   ],
   "source": [
    "# Print the label distribution for inspection\n",
    "print(\"Label distribution:\")\n",
    "print(data[\"etiket\"].value_counts())"
   ]
  },
  {
   "cell_type": "code",
   "execution_count": 39,
   "id": "7e84a95b-53c3-40d0-8415-c741b5bcc236",
   "metadata": {},
   "outputs": [],
   "source": [
    "mapping = {\n",
    "    \"saldirgan\": \"saldırgan\",\n",
    "    \"saldirgan / nefret / neutral\": \"saldırgan\",\n",
    "    \"neutral\": \"hiçbiri\",\n",
    "    \"nefret / saldirgan\": \"nefret\",\n",
    "    \"saldirgan / nefret\": \"nefret\",\n",
    "    \" saldirgan / nefret / neutral\": \"saldırgan\",\n",
    "    \"saldirgan / nefret / saldirgan\": \"saldırgan\",\n",
    "    \"nefret / neutral\": \"nefret\",\n",
    "    \"nefret / saldırgan\": \"nefret\"\n",
    "\n",
    "}\n",
    "\n",
    "# Veriyi eşleştirme\n",
    "data[\"etiket\"] = data[\"etiket\"].str.strip().map(mapping).fillna(data[\"etiket\"])"
   ]
  },
  {
   "cell_type": "code",
   "execution_count": 41,
   "id": "d6a616ef-f4dc-4199-a7dd-b88a0892b454",
   "metadata": {},
   "outputs": [
    {
     "name": "stdout",
     "output_type": "stream",
     "text": [
      "etiket\n",
      "nefret       1836\n",
      "saldırgan    1264\n",
      "hiçbiri       107\n",
      "Name: count, dtype: int64\n"
     ]
    }
   ],
   "source": [
    "print(data[\"etiket\"].value_counts())"
   ]
  },
  {
   "cell_type": "code",
   "execution_count": 45,
   "id": "2599d7a2-5237-40ee-83b0-2cee66e5d052",
   "metadata": {},
   "outputs": [
    {
     "ename": "NameError",
     "evalue": "name 'df' is not defined",
     "output_type": "error",
     "traceback": [
      "\u001b[1;31m---------------------------------------------------------------------------\u001b[0m",
      "\u001b[1;31mNameError\u001b[0m                                 Traceback (most recent call last)",
      "Cell \u001b[1;32mIn[45], line 1\u001b[0m\n\u001b[1;32m----> 1\u001b[0m df\u001b[38;5;241m.\u001b[39mto_csv(\u001b[38;5;124m\"\u001b[39m\u001b[38;5;124mdata_Llama_mapping.csv\u001b[39m\u001b[38;5;124m\"\u001b[39m, index\u001b[38;5;241m=\u001b[39m\u001b[38;5;28;01mFalse\u001b[39;00m)\n\u001b[0;32m      3\u001b[0m \u001b[38;5;28mprint\u001b[39m(\u001b[38;5;124m\"\u001b[39m\u001b[38;5;124mCSV dosyası başarıyla kaydedildi!\u001b[39m\u001b[38;5;124m\"\u001b[39m)\n",
      "\u001b[1;31mNameError\u001b[0m: name 'df' is not defined"
     ]
    }
   ],
   "source": [
    "data.to_csv(\"data_Llama_mapping.csv\", index=False)\n",
    "\n",
    "print(\"CSV dosyası başarıyla kaydedildi!\")"
   ]
  },
  {
   "cell_type": "code",
   "execution_count": 49,
   "id": "f03d7a02-a3a4-4949-a6b3-62c616372e8b",
   "metadata": {},
   "outputs": [],
   "source": [
    "import pandas as pd\n",
    "df = pd.read_csv(\"aı_hate_data.csv\")"
   ]
  },
  {
   "cell_type": "code",
   "execution_count": 51,
   "id": "75d4804b-9597-4741-b0ba-b61bdefa6d75",
   "metadata": {},
   "outputs": [
    {
     "name": "stdout",
     "output_type": "stream",
     "text": [
      "tweet     0\n",
      "etiket    0\n",
      "dtype: int64\n"
     ]
    }
   ],
   "source": [
    "if df.isnull().values.any():\n",
    "    print(df.isnull().sum())\n",
    "    df.dropna(inplace=True)\n",
    "    print(\"After drop null value:\")\n",
    "print(data.isnull().sum())"
   ]
  },
  {
   "cell_type": "code",
   "execution_count": 53,
   "id": "12138852-92a1-4a02-adbe-87d181fbff2a",
   "metadata": {},
   "outputs": [],
   "source": [
    "df.columns = [\"tweet\", \"etiket\"]"
   ]
  },
  {
   "cell_type": "code",
   "execution_count": 55,
   "id": "d9bb32f4-a59e-4a9f-9d72-347b3d2edf28",
   "metadata": {},
   "outputs": [],
   "source": [
    "df[\"etiket\"] = df[\"etiket\"].str.lower()"
   ]
  },
  {
   "cell_type": "code",
   "execution_count": 57,
   "id": "2b861b22-d464-4cba-8c18-d1822b2d1cc6",
   "metadata": {},
   "outputs": [
    {
     "name": "stdout",
     "output_type": "stream",
     "text": [
      "Label distribution:\n",
      "etiket\n",
      "saldirgan         2406\n",
      "saldırgan           85\n",
      "hakket i̇çeren       4\n",
      "salırgan             2\n",
      "Name: count, dtype: int64\n"
     ]
    }
   ],
   "source": [
    "# Print the label distribution for inspection\n",
    "print(\"Label distribution:\")\n",
    "print(df[\"etiket\"].value_counts())"
   ]
  },
  {
   "cell_type": "code",
   "execution_count": 59,
   "id": "0b47546f-4665-4158-bbd6-244feb2fa7f6",
   "metadata": {},
   "outputs": [],
   "source": [
    "mapping = {\n",
    "    \"saldirgan\": \"saldırgan\",\n",
    "    \"salırgan\": \"saldırgan\",\n",
    "    \"hakket i̇çeren\": \"saldırgan\",\n",
    "}\n",
    "\n",
    "# Veriyi eşleştirme\n",
    "df[\"etiket\"] = df[\"etiket\"].str.strip().map(mapping).fillna(df[\"etiket\"])"
   ]
  },
  {
   "cell_type": "code",
   "execution_count": 61,
   "id": "b82b08c1-a186-4105-a4e4-3ae2b41e9d61",
   "metadata": {},
   "outputs": [
    {
     "name": "stdout",
     "output_type": "stream",
     "text": [
      "etiket\n",
      "saldırgan    2497\n",
      "Name: count, dtype: int64\n"
     ]
    }
   ],
   "source": [
    "print(df[\"etiket\"].value_counts())"
   ]
  },
  {
   "cell_type": "code",
   "execution_count": 63,
   "id": "8c85d15f-7d8c-40d6-8b29-49d0eaa8394b",
   "metadata": {},
   "outputs": [
    {
     "name": "stdout",
     "output_type": "stream",
     "text": [
      "CSV dosyası başarıyla kaydedildi!\n"
     ]
    }
   ],
   "source": [
    "data.to_csv(\"data_Llama_mapping_hate.csv\", index=False)\n",
    "\n",
    "print(\"CSV dosyası başarıyla kaydedildi!\")"
   ]
  },
  {
   "cell_type": "code",
   "execution_count": null,
   "id": "654e6d6a-7d7d-4df9-9d92-d5f5751594d2",
   "metadata": {},
   "outputs": [],
   "source": []
  }
 ],
 "metadata": {
  "kernelspec": {
   "display_name": "Python 3 (ipykernel)",
   "language": "python",
   "name": "python3"
  },
  "language_info": {
   "codemirror_mode": {
    "name": "ipython",
    "version": 3
   },
   "file_extension": ".py",
   "mimetype": "text/x-python",
   "name": "python",
   "nbconvert_exporter": "python",
   "pygments_lexer": "ipython3",
   "version": "3.12.4"
  }
 },
 "nbformat": 4,
 "nbformat_minor": 5
}
