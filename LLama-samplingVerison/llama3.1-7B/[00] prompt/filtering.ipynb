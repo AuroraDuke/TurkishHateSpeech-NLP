{
 "cells": [
  {
   "cell_type": "code",
   "execution_count": 3,
   "id": "015b2084-ec14-4c6e-824c-b2d6fecaa218",
   "metadata": {},
   "outputs": [],
   "source": [
    "import pandas as pd\n",
    "data = pd.read_csv(\"data_Llama.csv\")\n"
   ]
  },
  {
   "cell_type": "code",
   "execution_count": 5,
   "id": "4934e2da-b602-4b9d-9386-5886b99b601c",
   "metadata": {},
   "outputs": [
    {
     "name": "stdout",
     "output_type": "stream",
     "text": [
      "tweet      1\n",
      "etiket    55\n",
      "dtype: int64\n",
      "After drop null value:\n",
      "tweet     0\n",
      "etiket    0\n",
      "dtype: int64\n"
     ]
    }
   ],
   "source": [
    "if data.isnull().values.any():\n",
    "    print(data.isnull().sum())\n",
    "    data.dropna(inplace=True)\n",
    "    print(\"After drop null value:\")\n",
    "print(data.isnull().sum())"
   ]
  },
  {
   "cell_type": "code",
   "execution_count": 7,
   "id": "70badd9d-7639-498b-a092-acfb09597fc9",
   "metadata": {},
   "outputs": [
    {
     "name": "stdout",
     "output_type": "stream",
     "text": [
      "Label distribution:\n",
      "etiket\n",
      "hiçbiri      7667\n",
      "nefret       4126\n",
      "saldırgan    3584\n",
      "Name: count, dtype: int64\n"
     ]
    }
   ],
   "source": [
    "# Print the label distribution for inspection\n",
    "print(\"Label distribution:\")\n",
    "print(data[\"etiket\"].value_counts())"
   ]
  },
  {
   "cell_type": "code",
   "execution_count": 9,
   "id": "2599d7a2-5237-40ee-83b0-2cee66e5d052",
   "metadata": {},
   "outputs": [
    {
     "name": "stdout",
     "output_type": "stream",
     "text": [
      "CSV dosyası başarıyla kaydedildi!\n"
     ]
    }
   ],
   "source": [
    "data.to_csv(\"data_Llama_NNun.csv\", index=False)\n",
    "\n",
    "print(\"CSV dosyası başarıyla kaydedildi!\")"
   ]
  },
  {
   "cell_type": "code",
   "execution_count": null,
   "id": "f03d7a02-a3a4-4949-a6b3-62c616372e8b",
   "metadata": {},
   "outputs": [],
   "source": []
  }
 ],
 "metadata": {
  "kernelspec": {
   "display_name": "Python 3 (ipykernel)",
   "language": "python",
   "name": "python3"
  },
  "language_info": {
   "codemirror_mode": {
    "name": "ipython",
    "version": 3
   },
   "file_extension": ".py",
   "mimetype": "text/x-python",
   "name": "python",
   "nbconvert_exporter": "python",
   "pygments_lexer": "ipython3",
   "version": "3.12.4"
  }
 },
 "nbformat": 4,
 "nbformat_minor": 5
}
